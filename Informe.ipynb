{
 "cells": [
  {
   "cell_type": "markdown",
   "metadata": {},
   "source": [
    "# Informe"
   ]
  },
  {
   "cell_type": "markdown",
   "metadata": {},
   "source": [
    "## Dia 1\n",
    "\n",
    "Vistazo general al enunciado y al codigo\n",
    "Primero me fije si podia correr los programas en Vs code\n",
    "    En Python tuve que arreglar el path relativo de los datos (no se porque me toma que el archivo de python esta 2 pasos arriva)\n",
    "    y en c++ todavia no logro saber como hacer para correrlo desde VsCode"
   ]
  },
  {
   "cell_type": "markdown",
   "metadata": {},
   "source": [
    "# Dia 2\n",
    "\n",
    "Preparamos el Git, y ahora no enfocamos en estructurar el programa de Python de forma que la ejecucion evalue todos los datos utilizando todos los algoritmo (que todavia no estan implementados) de forma que al recivir los ditintos parametros (a modo de experimento ) se guarden todos los resultados\n"
   ]
  },
  {
   "cell_type": "markdown",
   "metadata": {},
   "source": [
    "# Dia 3\n",
    "\n",
    "Configure el main de forma que declaro como quieron que sean los experimentos y por tanto que se ejecuten todos los datos con todos los experimentos pocible de forma que guarde: el Mejor error, las cordenada de los breakpoints y el tiempo que le tomo al algoritmo ejecutar el ealgoritmo dado los parametros dados."
   ]
  },
  {
   "cell_type": "markdown",
   "metadata": {},
   "source": []
  },
  {
   "attachments": {},
   "cell_type": "markdown",
   "metadata": {},
   "source": [
    "# Dia 4,5\n",
    "logramos hacer que la reursion pruebe todos los casos pocibles pero al graficar los resultados no salen la mejor solucion...\n",
    "\n"
   ]
  }
 ],
 "metadata": {
  "kernelspec": {
   "display_name": "base",
   "language": "python",
   "name": "python3"
  },
  "language_info": {
   "name": "python",
   "version": "3.11.5 (main, Sep 11 2023, 08:31:25) [Clang 14.0.6 ]"
  },
  "vscode": {
   "interpreter": {
    "hash": "588a077454552c0b608c7a75f739e0012bc0a6317cbb2228f1831255df17ce82"
   }
  }
 },
 "nbformat": 4,
 "nbformat_minor": 2
}
