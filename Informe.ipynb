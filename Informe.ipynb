{
 "cells": [
  {
   "cell_type": "markdown",
   "metadata": {},
   "source": [
    "# Informe"
   ]
  },
  {
   "cell_type": "markdown",
   "metadata": {},
   "source": [
    "## Dia 1\n",
    "\n",
    "Vistazo general al enunciado y al codigo\n",
    "Primero me fije si podia correr los programas en Vs code\n",
    "    En Python tuve que arreglar el path relativo de los datos (no se porque me toma que el archivo de python esta 2 pasos arriva)\n",
    "    y en c++ todavia no logro saber como hacer para correrlo desde VsCode"
   ]
  },
  {
   "cell_type": "markdown",
   "metadata": {},
   "source": [
    "# Dia 2\n",
    "\n",
    "Preparamos el Git, y ahora no enfocamos en estructurar el programa de Python de forma que la ejecucion evalue todos los datos utilizando todos los algoritmo (que todavia no estan implementados) de forma que al recivir los ditintos parametros (a modo de experimento ) se guarden todos los resultados\n"
   ]
  },
  {
   "cell_type": "markdown",
   "metadata": {},
   "source": []
  },
  {
   "cell_type": "markdown",
   "metadata": {},
   "source": []
  }
 ],
 "metadata": {
  "language_info": {
   "name": "python"
  }
 },
 "nbformat": 4,
 "nbformat_minor": 2
}
