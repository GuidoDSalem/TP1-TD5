{
 "cells": [
  {
   "cell_type": "code",
   "execution_count": 1,
   "metadata": {},
   "outputs": [],
   "source": [
    "from Core import *\n",
    "import numpy as np\n",
    "import json"
   ]
  },
  {
   "cell_type": "code",
   "execution_count": 3,
   "metadata": {},
   "outputs": [
    {
     "data": {
      "text/plain": [
       "{'x': [0.0, 1.0, 2.0, 3.0], 'y': [0.0, 1.0, 3.0, 0.0], 'n': 4}"
      ]
     },
     "execution_count": 3,
     "metadata": {},
     "output_type": "execute_result"
    }
   ],
   "source": [
    "path = \"../../../data/toy_instance.json\"\n",
    "with open(path) as f:\n",
    "    data = json.load(f)\n",
    "\n",
    "data\n"
   ]
  },
  {
   "cell_type": "code",
   "execution_count": 3,
   "metadata": {},
   "outputs": [],
   "source": [
    "import matplotlib.pyplot as plt\n",
    "\n",
    "# Crear algunos datos para la gráfica\n",
    "x = [1, 2, 3, 4, 5]\n",
    "y = [1, 4, 9, 16, 25]\n",
    "\n",
    "# Crear la gráfica\n",
    "plt.plot(x, y)\n",
    "\n",
    "# Guardar la gráfica en un archivo en lugar de mostrarla\n",
    "plt.savefig('./graficos/test')  # Asegúrate de especificar la ruta correcta\n",
    "\n",
    "# Cerrar el objeto plt para liberar memoria\n",
    "plt.close()"
   ]
  },
  {
   "cell_type": "code",
   "execution_count": 1,
   "metadata": {},
   "outputs": [
    {
     "data": {
      "image/png": "[encoded data removed]",
      "text/plain": [
       "<Figure size 1000x500 with 1 Axes>"
      ]
     },
     "metadata": {},
     "output_type": "display_data"
    }
   ],
   "source": [
    "import matplotlib.pyplot as plt\n",
    "import numpy as np\n",
    "\n",
    "# Datos de ejemplo\n",
    "datasets = ['Dataset 1', 'Dataset 2', 'Dataset 3']\n",
    "tiempos_fuerza_bruta = [20, 35, 30]\n",
    "tiempos_backtracking = [25, 32, 34]\n",
    "tiempos_pdinamic = [30, 25, 27]\n",
    "\n",
    "n = len(datasets)  # Número de datasets\n",
    "r = np.arange(n)  # Array con la posición de cada dataset\n",
    "width = 0.25       # Ancho de las barras\n",
    "\n",
    "# Crear el gráfico de barras\n",
    "plt.figure(figsize=(10, 5))  # Tamaño del gráfico\n",
    "\n",
    "# Barras para fuerza bruta\n",
    "plt.bar(r, tiempos_fuerza_bruta, color = 'g', width = width, edgecolor = 'grey', label='Fuerza Bruta')\n",
    "\n",
    "# Barras para backtracking\n",
    "plt.bar(r + width, tiempos_backtracking, color = 'b', width = width, edgecolor = 'grey', label='Backtracking')\n",
    "\n",
    "# Barras para programación dinámica\n",
    "plt.bar(r + 2 * width, tiempos_pdinamic, color = 'r', width = width, edgecolor = 'grey', label='Programación Dinámica')\n",
    "\n",
    "# Añadir títulos y etiquetas\n",
    "plt.xlabel('Datasets', fontweight ='bold', fontsize = 15)\n",
    "plt.ylabel('Tiempo de ejecución', fontweight ='bold', fontsize = 15)\n",
    "plt.xticks(r + width, datasets)\n",
    "\n",
    "# Añadir leyenda\n",
    "plt.legend()\n",
    "\n",
    "# Mostrar el gráfico\n",
    "plt.show()\n",
    "\n"
   ]
  },
  {
   "cell_type": "code",
   "execution_count": 1,
   "metadata": {},
   "outputs": [
    {
     "data": {
      "text/plain": [
       "'titanium'"
      ]
     },
     "execution_count": 1,
     "metadata": {},
     "output_type": "execute_result"
    }
   ],
   "source": [
    "palabra = \"titanium.json\"\n",
    "palabra[:-5]"
   ]
  },
  {
   "cell_type": "code",
   "execution_count": 6,
   "metadata": {},
   "outputs": [
    {
     "name": "stdout",
     "output_type": "stream",
     "text": [
      "L: [1, 2, 3]\n",
      "[]\n"
     ]
    }
   ],
   "source": [
    "def func(l:list,b:int):\n",
    "    j = [1,2,3]\n",
    "    l = j.copy()\n",
    "    print(f\"L: {l}\")\n",
    "    # l.append(5)\n",
    "    b = 5\n",
    "\n",
    "\n",
    "a = 6\n",
    "lista = []\n",
    "func(lista,a)\n",
    "\n",
    "print(lista)\n",
    "\n",
    "\n",
    "# print(listab,a)"
   ]
  },
  {
   "cell_type": "code",
   "execution_count": null,
   "metadata": {},
   "outputs": [
    {
     "data": {
      "text/plain": [
       "49"
      ]
     },
     "execution_count": 8,
     "metadata": {},
     "output_type": "execute_result"
    }
   ],
   "source": [
    "np.abs(-49)"
   ]
  },
  {
   "cell_type": "code",
   "execution_count": null,
   "metadata": {},
   "outputs": [
    {
     "name": "stdout",
     "output_type": "stream",
     "text": [
      "2\n",
      "3\n",
      "4\n"
     ]
    }
   ],
   "source": [
    "for i in range(2,5):\n",
    "    print(i)\n"
   ]
  },
  {
   "cell_type": "code",
   "execution_count": null,
   "metadata": {},
   "outputs": [
    {
     "data": {
      "text/plain": [
       "0"
      ]
     },
     "execution_count": 1,
     "metadata": {},
     "output_type": "execute_result"
    }
   ],
   "source": [
    "len([])"
   ]
  },
  {
   "cell_type": "code",
   "execution_count": 9,
   "metadata": {},
   "outputs": [
    {
     "data": {
      "text/plain": [
       "[(1, 4), (1, 5), (1, 6), (2, 4), (2, 5), (2, 6), (3, 4), (3, 5), (3, 6)]"
      ]
     },
     "execution_count": 9,
     "metadata": {},
     "output_type": "execute_result"
    }
   ],
   "source": [
    "a = generar_coordenadas([1,2,3],[4,5,6])\n",
    "# a[0][1]\n",
    "a"
   ]
  },
  {
   "cell_type": "code",
   "execution_count": 8,
   "metadata": {},
   "outputs": [
    {
     "data": {
      "image/png": "[encoded data removed]",
      "text/plain": [
       "<Figure size 640x480 with 1 Axes>"
      ]
     },
     "metadata": {},
     "output_type": "display_data"
    }
   ],
   "source": [
    "\n",
    "cordenadas = [[1,1],[2,3],[3,2]]\n",
    "m = 3\n",
    "algo = \"algo\"\n",
    "plot_coordenadas_y_linea(data,cordenadas,m,m,algo,m,m)\n"
   ]
  },
  {
   "cell_type": "code",
   "execution_count": 10,
   "metadata": {},
   "outputs": [
    {
     "name": "stdout",
     "output_type": "stream",
     "text": [
      "[[ 2  4]\n",
      " [ 6  8]\n",
      " [10 12]]\n"
     ]
    }
   ],
   "source": [
    "import numpy as np\n",
    "\n",
    "# Crear una matriz ejemplo A\n",
    "A = np.array([[1, 2, 3, 4],\n",
    "              [5, 6, 7, 8],\n",
    "              [9, 10, 11, 12]])\n",
    "\n",
    "# Definir los índices de las columnas que quieres seleccionar, por ejemplo, 1 y 3\n",
    "column_indices = [1, 3]\n",
    "\n",
    "# Seleccionar las columnas de A para crear la nueva matriz B\n",
    "B = A[:, column_indices]\n",
    "\n",
    "print(B)"
   ]
  },
  {
   "cell_type": "code",
   "execution_count": 47,
   "metadata": {},
   "outputs": [
    {
     "name": "stdout",
     "output_type": "stream",
     "text": [
      "[[1, 2, 3], [1, 2, 4], [1, 2, 5], [1, 2, 6], [1, 3, 4], [1, 3, 5], [1, 3, 6], [1, 4, 5], [1, 4, 6], [1, 5, 6], [2, 3, 4], [2, 3, 5], [2, 3, 6], [2, 4, 5], [2, 4, 6], [2, 5, 6], [3, 4, 5], [3, 4, 6], [3, 5, 6], [4, 5, 6]]\n"
     ]
    }
   ],
   "source": [
    "a = [1,2,3,4,5,6]\n",
    "\n",
    "def listasCombinatorias(lista:list,subconjuntos,lista_subconjuntos,k):\n",
    "    if(k==0):\n",
    "        lista_subconjuntos.append(subconjuntos.copy())\n",
    "        return\n",
    "    if(len(lista) == 0):\n",
    "        return \n",
    "    \n",
    "    subconjuntos.append(lista[0])\n",
    "    listasCombinatorias(lista[1:],subconjuntos,lista_subconjuntos,k-1)\n",
    "    subconjuntos.pop()\n",
    "    listasCombinatorias(lista[1:],subconjuntos,lista_subconjuntos,k)\n",
    "\n",
    "\n",
    "b = []\n",
    "listasCombinatorias(a,[],b,3)\n",
    "\n",
    "print(b)\n",
    "\n",
    "\n"
   ]
  },
  {
   "cell_type": "code",
   "execution_count": 49,
   "metadata": {},
   "outputs": [
    {
     "name": "stdout",
     "output_type": "stream",
     "text": [
      "[[1, 1, 2, 3, 4, 4]]\n"
     ]
    }
   ],
   "source": [
    "\n",
    "a = [1,2,3,4]\n",
    "b = []\n",
    "listasCombinatorias(a,[],b,4)\n",
    "\n",
    "b =  [[a[0]] + lista + [a[-1]] for lista in b]\n",
    "print(b)\n"
   ]
  },
  {
   "cell_type": "code",
   "execution_count": null,
   "metadata": {},
   "outputs": [],
   "source": [
    "gx = [1,2,3,4,5]\n",
    "gy = [1,2,3,4,5]\n",
    "\n",
    "# fuerzaBrutaRecursiva()"
   ]
  }
 ],
 "metadata": {
  "kernelspec": {
   "display_name": "base",
   "language": "python",
   "name": "python3"
  },
  "language_info": {
   "codemirror_mode": {
    "name": "ipython",
    "version": 3
   },
   "file_extension": ".py",
   "mimetype": "text/x-python",
   "name": "python",
   "nbconvert_exporter": "python",
   "pygments_lexer": "ipython3",
   "version": "3.10.13"
  },
  "orig_nbformat": 4,
  "vscode": {
   "interpreter": {
    "hash": "588a077454552c0b608c7a75f739e0012bc0a6317cbb2228f1831255df17ce82"
   }
  }
 },
 "nbformat": 4,
 "nbformat_minor": 2
}
