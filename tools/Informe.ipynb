{
 "cells": [
  {
   "cell_type": "markdown",
   "metadata": {},
   "source": [
    "# Informe"
   ]
  },
  {
   "cell_type": "markdown",
   "metadata": {},
   "source": [
    "## Dia 1\n",
    "\n",
    "Vistazo general al enunciado y al codigo\n",
    "Primero me fije si podia correr los programas en Vs code\n",
    "    En Python tuve que arreglar el path relativo de los datos (no se porque me toma que el archivo de python esta 2 pasos arriva)\n",
    "    y en c++ todavia no logro saber como hacer para correrlo desde VsCode"
   ]
  },
  {
   "cell_type": "markdown",
   "metadata": {},
   "source": [
    "# Dia 2\n",
    "\n",
    "Preparamos el Git, y ahora no enfocamos en estructurar el programa de Python de forma que la ejecucion evalue todos los datos utilizando todos los algoritmo (que todavia no estan implementados) de forma que al recivir los ditintos parametros (a modo de experimento ) se guarden todos los resultados\n"
   ]
  },
  {
   "cell_type": "markdown",
   "metadata": {},
   "source": [
    "# Dia 3\n",
    "\n",
    "Configure el main de forma que declaro como quieron que sean los experimentos y por tanto que se ejecuten todos los datos con todos los experimentos pocible de forma que guarde: el Mejor error, las cordenada de los breakpoints y el tiempo que le tomo al algoritmo ejecutar el ealgoritmo dado los parametros dados."
   ]
  },
  {
   "cell_type": "markdown",
   "metadata": {},
   "source": []
  },
  {
   "attachments": {},
   "cell_type": "markdown",
   "metadata": {},
   "source": [
    "# Dia 4,5\n",
    "logramos hacer que la reursion pruebe todos los casos pocibles pero al graficar los resultados no salen la mejor solucion...\n",
    "\n"
   ]
  },
  {
   "attachments": {},
   "cell_type": "markdown",
   "metadata": {},
   "source": [
    "# Dias 6\n",
    "\n",
    "Logramos terminar la funcion backtracking que mediante logs y un grafico al final con el resultado podemos comprobar que funciona correctamente.\n",
    "Ahora vamos a empezar con back tracking. Mi primera idea para encarar este problema es en el primer tramo de la funcion probar todos los casos pocibles y una vez que encontremos el que menor error nos da, ir construyendo la funcion desde ahi eligiendo en cada tramo el mejor camino pocible (probando todos los casos para ese tramo empezando solo desde habiamos dejado en el tramo anterior para respetar la continuidad de la funcion). Me genera ruido que siento que esta funcion no necesita recurcion y por tanto la \"poda\" no seria una poda como la conocemos en recurcion.\n",
    "\n",
    "\n",
    "Creo que el enfoque descripto anteriormente en realidad es el enfoque de programacion dinamica\n",
    "\n",
    "programando la funcion dinamica, logre que corra pero da un resultado distinto al algoritmo de fuerza bruta dando distintos puntos y distintos errores\n",
    "\n",
    "Sigue dando distinto pero ahora no creo que sea un error de programacion (un bug) sino que esta mal pensado como encare el problema\n"
   ]
  },
  {
   "attachments": {},
   "cell_type": "markdown",
   "metadata": {},
   "source": [
    "# Dia 7\n",
    "Nos dimos cuenta que a fuerza bruta para \"podar\" habia que estar cinstantemente verificando si el error de la funcion que se iba formando habia que compararla con nuestro mejor error hasta ahora, si lo superava, ya no tenia sentido seguir buscando por esa rama.\n",
    "\n",
    "Tambien nos dimos cuenta que la forma que encaramos el algoritmo dinamico estaba mal ya que podia pasar que para un tramo tal vez el tramo que generava menor error en ese tramo no necesariamente significaba que era el que habia que tomar para generar el menor error de la funcion enetera.\n",
    "\n",
    "Para encarar el algoritmo de programacion dinamica, vamos a generar una matriz de ms X ns donde en cada valor vamos a ir guardando el menor error que se puede generar partiendo de ese punto de la grilla"
   ]
  },
  {
   "cell_type": "markdown",
   "metadata": {},
   "source": []
  }
 ],
 "metadata": {
  "kernelspec": {
   "display_name": "base",
   "language": "python",
   "name": "python3"
  },
  "language_info": {
   "name": "python",
   "version": "3.11.5 (main, Sep 11 2023, 08:31:25) [Clang 14.0.6 ]"
  },
  "vscode": {
   "interpreter": {
    "hash": "588a077454552c0b608c7a75f739e0012bc0a6317cbb2228f1831255df17ce82"
   }
  }
 },
 "nbformat": 4,
 "nbformat_minor": 2
}
